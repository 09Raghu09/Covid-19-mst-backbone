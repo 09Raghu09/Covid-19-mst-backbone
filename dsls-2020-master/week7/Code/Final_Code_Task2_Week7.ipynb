{
  "nbformat": 4,
  "nbformat_minor": 0,
  "metadata": {
    "colab": {
      "name": "Final_Code_Task2_Week7.ipynb",
      "provenance": [],
      "collapsed_sections": []
    },
    "kernelspec": {
      "name": "python3",
      "display_name": "Python 3"
    }
  },
  "cells": [
    {
      "cell_type": "markdown",
      "metadata": {
        "id": "Ul5LVspiANFJ",
        "colab_type": "text"
      },
      "source": [
        "# Data based time series prediction"
      ]
    },
    {
      "cell_type": "code",
      "metadata": {
        "id": "_8r2gtKp1sG2",
        "colab_type": "code",
        "colab": {}
      },
      "source": [
        "import pandas as pd \n",
        "import numpy as np \n",
        "import matplotlib.pyplot as plt \n",
        "%matplotlib inline\n",
        "import pandas as pd\n",
        "from fbprophet import Prophet\n",
        "from fbprophet.plot import add_changepoints_to_plot\n",
        "from fbprophet.diagnostics import cross_validation\n",
        "from fbprophet.diagnostics import performance_metrics\n",
        "from fbprophet.plot import plot_cross_validation_metric\n",
        "import matplotlib.pyplot as plt\n",
        "plt.style.use('ggplot')\n",
        "from fbprophet.plot import plot_plotly\n",
        "import numpy as np\n",
        "import pylab\n",
        "from sklearn.metrics import mean_squared_error, r2_score, mean_absolute_error"
      ],
      "execution_count": 0,
      "outputs": []
    },
    {
      "cell_type": "markdown",
      "metadata": {
        "id": "183JOkAl2CLf",
        "colab_type": "text"
      },
      "source": [
        "Load the data"
      ]
    },
    {
      "cell_type": "code",
      "metadata": {
        "id": "5K4xKNbc1_ig",
        "colab_type": "code",
        "colab": {}
      },
      "source": [
        "RKI_data = pd.read_csv('/content/drive/My Drive/week7_data_cases_rki.csv', index_col=[0], parse_dates= [0])\n",
        "SIR_data = pd.read_csv('/content/drive/My Drive/week7_data_SIR_Data_5.csv', index_col=[0], parse_dates= [0])\n",
        "ABM_data = pd.read_csv('/content/drive/My Drive/week7_data_cases_abm.csv', index_col=[0], parse_dates= [0])"
      ],
      "execution_count": 0,
      "outputs": []
    },
    {
      "cell_type": "markdown",
      "metadata": {
        "id": "JlEC0ooX2pUI",
        "colab_type": "text"
      },
      "source": [
        "RKI dataset"
      ]
    },
    {
      "cell_type": "markdown",
      "metadata": {
        "id": "Oo_Z7OsJ819p",
        "colab_type": "text"
      },
      "source": [
        "Get the mean, sd and critical values"
      ]
    },
    {
      "cell_type": "code",
      "metadata": {
        "id": "G0TWxytE2Vh3",
        "colab_type": "code",
        "outputId": "db30df2f-e12b-4e34-ad64-dee547f5282c",
        "colab": {
          "base_uri": "https://localhost:8080/",
          "height": 297
        }
      },
      "source": [
        "type(RKI_data)\n",
        "\n",
        "#convert to time series:\n",
        "series_value = RKI_data.values\n",
        "type(series_value)\n",
        "\n",
        "RKI_data.describe()"
      ],
      "execution_count": 0,
      "outputs": [
        {
          "output_type": "execute_result",
          "data": {
            "text/html": [
              "<div>\n",
              "<style scoped>\n",
              "    .dataframe tbody tr th:only-of-type {\n",
              "        vertical-align: middle;\n",
              "    }\n",
              "\n",
              "    .dataframe tbody tr th {\n",
              "        vertical-align: top;\n",
              "    }\n",
              "\n",
              "    .dataframe thead th {\n",
              "        text-align: right;\n",
              "    }\n",
              "</style>\n",
              "<table border=\"1\" class=\"dataframe\">\n",
              "  <thead>\n",
              "    <tr style=\"text-align: right;\">\n",
              "      <th></th>\n",
              "      <th>Cases</th>\n",
              "    </tr>\n",
              "  </thead>\n",
              "  <tbody>\n",
              "    <tr>\n",
              "      <th>count</th>\n",
              "      <td>60.000000</td>\n",
              "    </tr>\n",
              "    <tr>\n",
              "      <th>mean</th>\n",
              "      <td>76819.266667</td>\n",
              "    </tr>\n",
              "    <tr>\n",
              "      <th>std</th>\n",
              "      <td>60165.075217</td>\n",
              "    </tr>\n",
              "    <tr>\n",
              "      <th>min</th>\n",
              "      <td>210.000000</td>\n",
              "    </tr>\n",
              "    <tr>\n",
              "      <th>25%</th>\n",
              "      <td>11771.500000</td>\n",
              "    </tr>\n",
              "    <tr>\n",
              "      <th>50%</th>\n",
              "      <td>77177.000000</td>\n",
              "    </tr>\n",
              "    <tr>\n",
              "      <th>75%</th>\n",
              "      <td>135395.000000</td>\n",
              "    </tr>\n",
              "    <tr>\n",
              "      <th>max</th>\n",
              "      <td>162395.000000</td>\n",
              "    </tr>\n",
              "  </tbody>\n",
              "</table>\n",
              "</div>"
            ],
            "text/plain": [
              "               Cases\n",
              "count      60.000000\n",
              "mean    76819.266667\n",
              "std     60165.075217\n",
              "min       210.000000\n",
              "25%     11771.500000\n",
              "50%     77177.000000\n",
              "75%    135395.000000\n",
              "max    162395.000000"
            ]
          },
          "metadata": {
            "tags": []
          },
          "execution_count": 130
        }
      ]
    },
    {
      "cell_type": "markdown",
      "metadata": {
        "id": "Cevg0atW9C3n",
        "colab_type": "text"
      },
      "source": [
        "Plot the values"
      ]
    },
    {
      "cell_type": "markdown",
      "metadata": {
        "id": "lRjst6-h9Jnc",
        "colab_type": "text"
      },
      "source": [
        "Making the time series stationary"
      ]
    },
    {
      "cell_type": "code",
      "metadata": {
        "id": "cJmSuT8y3VYY",
        "colab_type": "code",
        "outputId": "702437b9-cbdf-4770-b849-4c08e13a5ec3",
        "colab": {
          "base_uri": "https://localhost:8080/",
          "height": 628
        }
      },
      "source": [
        "# Apply smoothing function\n",
        "RKI_data_mean = RKI_data.rolling(window = 9).mean()\n",
        "RKI_data.plot()\n",
        "RKI_data_mean.plot()"
      ],
      "execution_count": 0,
      "outputs": [
        {
          "output_type": "execute_result",
          "data": {
            "text/plain": [
              "<matplotlib.axes._subplots.AxesSubplot at 0x7f0281c78438>"
            ]
          },
          "metadata": {
            "tags": []
          },
          "execution_count": 132
        },
        {
          "output_type": "display_data",
          "data": {
            "image/png": "[encoded data removed]",
            "text/plain": [
              "<Figure size 432x288 with 1 Axes>"
            ]
          },
          "metadata": {
            "tags": [],
            "needs_background": "light"
          }
        },
        {
          "output_type": "display_data",
          "data": {
            "image/png": "[encoded data removed]",
            "text/plain": [
              "<Figure size 432x288 with 1 Axes>"
            ]
          },
          "metadata": {
            "tags": [],
            "needs_background": "light"
          }
        }
      ]
    },
    {
      "cell_type": "markdown",
      "metadata": {
        "id": "GzzKZdgW9X7s",
        "colab_type": "text"
      },
      "source": [
        "ACF and PACF plots"
      ]
    },
    {
      "cell_type": "code",
      "metadata": {
        "id": "z1x7fJJF3Z0s",
        "colab_type": "code",
        "outputId": "766347a7-bc08-49eb-9770-b052c3f455c8",
        "colab": {
          "base_uri": "https://localhost:8080/",
          "height": 545
        }
      },
      "source": [
        "from statsmodels.graphics.tsaplots import plot_acf,plot_pacf\n",
        "plot_acf(RKI_data)"
      ],
      "execution_count": 0,
      "outputs": [
        {
          "output_type": "execute_result",
          "data": {
            "image/png": "[encoded data removed]",
            "text/plain": [
              "<Figure size 432x288 with 1 Axes>"
            ]
          },
          "metadata": {
            "tags": []
          },
          "execution_count": 133
        },
        {
          "output_type": "display_data",
          "data": {
            "image/png": "[encoded data removed]",
            "text/plain": [
              "<Figure size 432x288 with 1 Axes>"
            ]
          },
          "metadata": {
            "tags": [],
            "needs_background": "light"
          }
        }
      ]
    },
    {
      "cell_type": "code",
      "metadata": {
        "id": "WwukpRTP3e4q",
        "colab_type": "code",
        "outputId": "6151efce-588b-49f7-a9d8-047cd28e18ee",
        "colab": {
          "base_uri": "https://localhost:8080/",
          "height": 545
        }
      },
      "source": [
        "plot_pacf(RKI_data)"
      ],
      "execution_count": 0,
      "outputs": [
        {
          "output_type": "execute_result",
          "data": {
            "image/png": "[encoded data removed]",
            "text/plain": [
              "<Figure size 432x288 with 1 Axes>"
            ]
          },
          "metadata": {
            "tags": []
          },
          "execution_count": 134
        },
        {
          "output_type": "display_data",
          "data": {
            "image/png": "[encoded data removed]",
            "text/plain": [
              "<Figure size 432x288 with 1 Axes>"
            ]
          },
          "metadata": {
            "tags": [],
            "needs_background": "light"
          }
        }
      ]
    },
    {
      "cell_type": "code",
      "metadata": {
        "id": "OIaPIGbX3jQN",
        "colab_type": "code",
        "outputId": "f3776559-53c6-448b-9d6f-f2cb6cb1e8ba",
        "colab": {
          "base_uri": "https://localhost:8080/",
          "height": 34
        }
      },
      "source": [
        "RKI_data.size"
      ],
      "execution_count": 0,
      "outputs": [
        {
          "output_type": "execute_result",
          "data": {
            "text/plain": [
              "60"
            ]
          },
          "metadata": {
            "tags": []
          },
          "execution_count": 135
        }
      ]
    },
    {
      "cell_type": "markdown",
      "metadata": {
        "id": "Ysqh3MaR9inA",
        "colab_type": "text"
      },
      "source": [
        "Split the data as train and test data"
      ]
    },
    {
      "cell_type": "code",
      "metadata": {
        "id": "nTAQIXSH3oME",
        "colab_type": "code",
        "colab": {}
      },
      "source": [
        "# Split data into train and test sets \n",
        "RKI_data_train = RKI_data[0:50]\n",
        "RKI_data_test = RKI_data[50:60]"
      ],
      "execution_count": 0,
      "outputs": []
    },
    {
      "cell_type": "code",
      "metadata": {
        "id": "K4EPCrDT3rxD",
        "colab_type": "code",
        "outputId": "33ececcf-33ca-455e-c9dd-3bf4ed629697",
        "colab": {
          "base_uri": "https://localhost:8080/",
          "height": 34
        }
      },
      "source": [
        "RKI_data_train.size"
      ],
      "execution_count": 0,
      "outputs": [
        {
          "output_type": "execute_result",
          "data": {
            "text/plain": [
              "50"
            ]
          },
          "metadata": {
            "tags": []
          },
          "execution_count": 137
        }
      ]
    },
    {
      "cell_type": "code",
      "metadata": {
        "id": "KnWm328b3vRK",
        "colab_type": "code",
        "outputId": "13aca831-1eef-4269-92b0-27dd0c33cba2",
        "colab": {
          "base_uri": "https://localhost:8080/",
          "height": 34
        }
      },
      "source": [
        "RKI_data_test.size"
      ],
      "execution_count": 0,
      "outputs": [
        {
          "output_type": "execute_result",
          "data": {
            "text/plain": [
              "10"
            ]
          },
          "metadata": {
            "tags": []
          },
          "execution_count": 138
        }
      ]
    },
    {
      "cell_type": "markdown",
      "metadata": {
        "id": "7J3Kmp4W9uMp",
        "colab_type": "text"
      },
      "source": [
        "Build the ARIMA Model"
      ]
    },
    {
      "cell_type": "code",
      "metadata": {
        "id": "4-sttlmc3ywR",
        "colab_type": "code",
        "outputId": "2aba5d2e-85d5-4385-e241-fcd584975cf0",
        "colab": {
          "base_uri": "https://localhost:8080/",
          "height": 105
        }
      },
      "source": [
        "from statsmodels.tsa.arima_model import ARIMA\n",
        "\n",
        "RKI_data_model = ARIMA(RKI_data_train, order=(2,1,3))\n",
        "RKI_data_model_fit = RKI_data_model.fit()"
      ],
      "execution_count": 0,
      "outputs": [
        {
          "output_type": "stream",
          "text": [
            "/usr/local/lib/python3.6/dist-packages/statsmodels/tsa/base/tsa_model.py:165: ValueWarning: No frequency information was provided, so inferred frequency D will be used.\n",
            "  % freq, ValueWarning)\n",
            "/usr/local/lib/python3.6/dist-packages/statsmodels/tsa/base/tsa_model.py:165: ValueWarning: No frequency information was provided, so inferred frequency D will be used.\n",
            "  % freq, ValueWarning)\n"
          ],
          "name": "stderr"
        }
      ]
    },
    {
      "cell_type": "markdown",
      "metadata": {
        "id": "JXUnzKdR92b7",
        "colab_type": "text"
      },
      "source": [
        "Get the best aic value"
      ]
    },
    {
      "cell_type": "code",
      "metadata": {
        "id": "fMDAE-sI32oS",
        "colab_type": "code",
        "outputId": "6282d7c4-c499-4e5d-f215-c2230ca5221e",
        "colab": {
          "base_uri": "https://localhost:8080/",
          "height": 34
        }
      },
      "source": [
        "RKI_data_model_fit.aic"
      ],
      "execution_count": 0,
      "outputs": [
        {
          "output_type": "execute_result",
          "data": {
            "text/plain": [
              "794.3582568029673"
            ]
          },
          "metadata": {
            "tags": []
          },
          "execution_count": 140
        }
      ]
    },
    {
      "cell_type": "markdown",
      "metadata": {
        "id": "g0BsOYwI99Wn",
        "colab_type": "text"
      },
      "source": [
        "Predict the forecast"
      ]
    },
    {
      "cell_type": "code",
      "metadata": {
        "id": "mS3u316X37C1",
        "colab_type": "code",
        "outputId": "ca9b2728-39d6-43de-891c-a3c8561885d5",
        "colab": {
          "base_uri": "https://localhost:8080/",
          "height": 68
        }
      },
      "source": [
        "RKI_data_forecast = RKI_data_model_fit.forecast(steps = 10)[0]\n",
        "RKI_data_forecast"
      ],
      "execution_count": 0,
      "outputs": [
        {
          "output_type": "execute_result",
          "data": {
            "text/plain": [
              "array([148456.80211263, 150800.20175307, 153082.61798674, 155356.21409158,\n",
              "       157631.76466883, 159911.30447419, 162195.03486191, 164482.78397694,\n",
              "       166774.31474701, 169069.38916393])"
            ]
          },
          "metadata": {
            "tags": []
          },
          "execution_count": 141
        }
      ]
    },
    {
      "cell_type": "code",
      "metadata": {
        "id": "tjrrSuD63_MX",
        "colab_type": "code",
        "outputId": "05200c75-2790-40bf-e898-e23b5a24a927",
        "colab": {
          "base_uri": "https://localhost:8080/",
          "height": 390
        }
      },
      "source": [
        "RKI_data_test"
      ],
      "execution_count": 0,
      "outputs": [
        {
          "output_type": "execute_result",
          "data": {
            "text/html": [
              "<div>\n",
              "<style scoped>\n",
              "    .dataframe tbody tr th:only-of-type {\n",
              "        vertical-align: middle;\n",
              "    }\n",
              "\n",
              "    .dataframe tbody tr th {\n",
              "        vertical-align: top;\n",
              "    }\n",
              "\n",
              "    .dataframe thead th {\n",
              "        text-align: right;\n",
              "    }\n",
              "</style>\n",
              "<table border=\"1\" class=\"dataframe\">\n",
              "  <thead>\n",
              "    <tr style=\"text-align: right;\">\n",
              "      <th></th>\n",
              "      <th>Cases</th>\n",
              "    </tr>\n",
              "    <tr>\n",
              "      <th>Date</th>\n",
              "      <th></th>\n",
              "    </tr>\n",
              "  </thead>\n",
              "  <tbody>\n",
              "    <tr>\n",
              "      <th>2020-04-21</th>\n",
              "      <td>148427</td>\n",
              "    </tr>\n",
              "    <tr>\n",
              "      <th>2020-04-22</th>\n",
              "      <td>150921</td>\n",
              "    </tr>\n",
              "    <tr>\n",
              "      <th>2020-04-23</th>\n",
              "      <td>153012</td>\n",
              "    </tr>\n",
              "    <tr>\n",
              "      <th>2020-04-24</th>\n",
              "      <td>154897</td>\n",
              "    </tr>\n",
              "    <tr>\n",
              "      <th>2020-04-25</th>\n",
              "      <td>156201</td>\n",
              "    </tr>\n",
              "    <tr>\n",
              "      <th>2020-04-26</th>\n",
              "      <td>156905</td>\n",
              "    </tr>\n",
              "    <tr>\n",
              "      <th>2020-04-27</th>\n",
              "      <td>158027</td>\n",
              "    </tr>\n",
              "    <tr>\n",
              "      <th>2020-04-28</th>\n",
              "      <td>159494</td>\n",
              "    </tr>\n",
              "    <tr>\n",
              "      <th>2020-04-29</th>\n",
              "      <td>160923</td>\n",
              "    </tr>\n",
              "    <tr>\n",
              "      <th>2020-04-30</th>\n",
              "      <td>162395</td>\n",
              "    </tr>\n",
              "  </tbody>\n",
              "</table>\n",
              "</div>"
            ],
            "text/plain": [
              "             Cases\n",
              "Date              \n",
              "2020-04-21  148427\n",
              "2020-04-22  150921\n",
              "2020-04-23  153012\n",
              "2020-04-24  154897\n",
              "2020-04-25  156201\n",
              "2020-04-26  156905\n",
              "2020-04-27  158027\n",
              "2020-04-28  159494\n",
              "2020-04-29  160923\n",
              "2020-04-30  162395"
            ]
          },
          "metadata": {
            "tags": []
          },
          "execution_count": 142
        }
      ]
    },
    {
      "cell_type": "markdown",
      "metadata": {
        "id": "qeYSrn9G-Cxf",
        "colab_type": "text"
      },
      "source": [
        "Find RMSE"
      ]
    },
    {
      "cell_type": "code",
      "metadata": {
        "id": "Juf7BGyt4C3L",
        "colab_type": "code",
        "outputId": "154f7745-013e-4192-e15b-687710fb2afb",
        "colab": {
          "base_uri": "https://localhost:8080/",
          "height": 51
        }
      },
      "source": [
        "# comparison to the best performing timeseries prediction approach\n",
        "from sklearn.metrics import mean_squared_error\n",
        "from math import sqrt\n",
        "def rms(RKI_data_test, RKI_data_forecast):\n",
        "  rms = sqrt(mean_squared_error(RKI_data_test, RKI_data_forecast))\n",
        "  return rms\n",
        "print(\"RMSE for fitting and prediction of RKI derived data\")\n",
        "print(rms(np.log(RKI_data_test), np.log(RKI_data_forecast)))\n"
      ],
      "execution_count": 0,
      "outputs": [
        {
          "output_type": "stream",
          "text": [
            "RMSE for fitting and prediction of RKI derived data\n",
            "0.022309721214949417\n"
          ],
          "name": "stdout"
        }
      ]
    },
    {
      "cell_type": "markdown",
      "metadata": {
        "id": "R1QMQal1_tzW",
        "colab_type": "text"
      },
      "source": [
        "Plot the forecast values"
      ]
    },
    {
      "cell_type": "code",
      "metadata": {
        "id": "jg6DmUSL4INf",
        "colab_type": "code",
        "outputId": "85e6fa0d-115a-4865-c927-7c2bc9266813",
        "colab": {
          "base_uri": "https://localhost:8080/",
          "height": 583
        }
      },
      "source": [
        "RKI_data_model_fit.plot_predict(1,60)"
      ],
      "execution_count": 0,
      "outputs": [
        {
          "output_type": "execute_result",
          "data": {
            "image/png": "[encoded data removed]",
            "text/plain": [
              "<Figure size 432x288 with 1 Axes>"
            ]
          },
          "metadata": {
            "tags": []
          },
          "execution_count": 144
        },
        {
          "output_type": "display_data",
          "data": {
            "image/png": "[encoded data removed]",
            "text/plain": [
              "<Figure size 432x288 with 1 Axes>"
            ]
          },
          "metadata": {
            "tags": [],
            "needs_background": "light"
          }
        }
      ]
    },
    {
      "cell_type": "markdown",
      "metadata": {
        "id": "BxD8xHJ24NTj",
        "colab_type": "text"
      },
      "source": [
        "SIR dataset"
      ]
    },
    {
      "cell_type": "code",
      "metadata": {
        "id": "kw_3tu464M0r",
        "colab_type": "code",
        "outputId": "e1365b0b-d6a9-4958-a6c6-8fa1a52aeb3f",
        "colab": {
          "base_uri": "https://localhost:8080/",
          "height": 297
        }
      },
      "source": [
        "type(SIR_data)\n",
        "\n",
        "series_value = SIR_data.values\n",
        "type(series_value)\n",
        "\n",
        "SIR_data.describe()"
      ],
      "execution_count": 0,
      "outputs": [
        {
          "output_type": "execute_result",
          "data": {
            "text/html": [
              "<div>\n",
              "<style scoped>\n",
              "    .dataframe tbody tr th:only-of-type {\n",
              "        vertical-align: middle;\n",
              "    }\n",
              "\n",
              "    .dataframe tbody tr th {\n",
              "        vertical-align: top;\n",
              "    }\n",
              "\n",
              "    .dataframe thead th {\n",
              "        text-align: right;\n",
              "    }\n",
              "</style>\n",
              "<table border=\"1\" class=\"dataframe\">\n",
              "  <thead>\n",
              "    <tr style=\"text-align: right;\">\n",
              "      <th></th>\n",
              "      <th>Cases</th>\n",
              "    </tr>\n",
              "  </thead>\n",
              "  <tbody>\n",
              "    <tr>\n",
              "      <th>count</th>\n",
              "      <td>60.000000</td>\n",
              "    </tr>\n",
              "    <tr>\n",
              "      <th>mean</th>\n",
              "      <td>68981.400000</td>\n",
              "    </tr>\n",
              "    <tr>\n",
              "      <th>std</th>\n",
              "      <td>28544.016531</td>\n",
              "    </tr>\n",
              "    <tr>\n",
              "      <th>min</th>\n",
              "      <td>8500.000000</td>\n",
              "    </tr>\n",
              "    <tr>\n",
              "      <th>25%</th>\n",
              "      <td>50852.250000</td>\n",
              "    </tr>\n",
              "    <tr>\n",
              "      <th>50%</th>\n",
              "      <td>76365.000000</td>\n",
              "    </tr>\n",
              "    <tr>\n",
              "      <th>75%</th>\n",
              "      <td>92889.250000</td>\n",
              "    </tr>\n",
              "    <tr>\n",
              "      <th>max</th>\n",
              "      <td>103443.000000</td>\n",
              "    </tr>\n",
              "  </tbody>\n",
              "</table>\n",
              "</div>"
            ],
            "text/plain": [
              "               Cases\n",
              "count      60.000000\n",
              "mean    68981.400000\n",
              "std     28544.016531\n",
              "min      8500.000000\n",
              "25%     50852.250000\n",
              "50%     76365.000000\n",
              "75%     92889.250000\n",
              "max    103443.000000"
            ]
          },
          "metadata": {
            "tags": []
          },
          "execution_count": 145
        }
      ]
    },
    {
      "cell_type": "code",
      "metadata": {
        "id": "ARID79_m4dzw",
        "colab_type": "code",
        "outputId": "358aea5e-fd0b-4103-a784-a74287ec17d8",
        "colab": {
          "base_uri": "https://localhost:8080/",
          "height": 331
        }
      },
      "source": [
        "SIR_data.plot()"
      ],
      "execution_count": 0,
      "outputs": [
        {
          "output_type": "execute_result",
          "data": {
            "text/plain": [
              "<matplotlib.axes._subplots.AxesSubplot at 0x7f0281936908>"
            ]
          },
          "metadata": {
            "tags": []
          },
          "execution_count": 146
        },
        {
          "output_type": "display_data",
          "data": {
            "image/png": "[encoded data removed]",
            "text/plain": [
              "<Figure size 432x288 with 1 Axes>"
            ]
          },
          "metadata": {
            "tags": [],
            "needs_background": "light"
          }
        }
      ]
    },
    {
      "cell_type": "code",
      "metadata": {
        "id": "y9QaE22R4iiA",
        "colab_type": "code",
        "outputId": "d39624a0-4f37-40dd-bb5a-0daff908a8c0",
        "colab": {
          "base_uri": "https://localhost:8080/",
          "height": 628
        }
      },
      "source": [
        "SIR_data_mean = SIR_data.rolling(window = 9).mean()\n",
        "SIR_data.plot()\n",
        "SIR_data_mean.plot()"
      ],
      "execution_count": 0,
      "outputs": [
        {
          "output_type": "execute_result",
          "data": {
            "text/plain": [
              "<matplotlib.axes._subplots.AxesSubplot at 0x7f0281798cc0>"
            ]
          },
          "metadata": {
            "tags": []
          },
          "execution_count": 147
        },
        {
          "output_type": "display_data",
          "data": {
            "image/png": "[encoded data removed]",
            "text/plain": [
              "<Figure size 432x288 with 1 Axes>"
            ]
          },
          "metadata": {
            "tags": [],
            "needs_background": "light"
          }
        },
        {
          "output_type": "display_data",
          "data": {
            "image/png": "[encoded data removed]",
            "text/plain": [
              "<Figure size 432x288 with 1 Axes>"
            ]
          },
          "metadata": {
            "tags": [],
            "needs_background": "light"
          }
        }
      ]
    },
    {
      "cell_type": "code",
      "metadata": {
        "id": "ZL35jMXI4nTl",
        "colab_type": "code",
        "outputId": "7c1ee135-6045-42c8-fc2d-e14c44c3e35e",
        "colab": {
          "base_uri": "https://localhost:8080/",
          "height": 545
        }
      },
      "source": [
        "plot_acf(SIR_data)"
      ],
      "execution_count": 0,
      "outputs": [
        {
          "output_type": "execute_result",
          "data": {
            "image/png": "[encoded data removed]",
            "text/plain": [
              "<Figure size 432x288 with 1 Axes>"
            ]
          },
          "metadata": {
            "tags": []
          },
          "execution_count": 148
        },
        {
          "output_type": "display_data",
          "data": {
            "image/png": "[encoded data removed]",
            "text/plain": [
              "<Figure size 432x288 with 1 Axes>"
            ]
          },
          "metadata": {
            "tags": [],
            "needs_background": "light"
          }
        }
      ]
    },
    {
      "cell_type": "code",
      "metadata": {
        "id": "5dXAQgrS5AXo",
        "colab_type": "code",
        "outputId": "441cd420-9966-4f69-efd1-784253f02e2c",
        "colab": {
          "base_uri": "https://localhost:8080/",
          "height": 545
        }
      },
      "source": [
        "plot_pacf(SIR_data)"
      ],
      "execution_count": 0,
      "outputs": [
        {
          "output_type": "execute_result",
          "data": {
            "image/png": "[encoded data removed]",
            "text/plain": [
              "<Figure size 432x288 with 1 Axes>"
            ]
          },
          "metadata": {
            "tags": []
          },
          "execution_count": 149
        },
        {
          "output_type": "display_data",
          "data": {
            "image/png": "[encoded data removed]",
            "text/plain": [
              "<Figure size 432x288 with 1 Axes>"
            ]
          },
          "metadata": {
            "tags": [],
            "needs_background": "light"
          }
        }
      ]
    },
    {
      "cell_type": "code",
      "metadata": {
        "id": "RqxPWmln5FKy",
        "colab_type": "code",
        "colab": {}
      },
      "source": [
        "SIR_data_train = SIR_data[0:40]\n",
        "SIR_data_test = SIR_data[40:60]"
      ],
      "execution_count": 0,
      "outputs": []
    },
    {
      "cell_type": "code",
      "metadata": {
        "id": "8ZN0tVJa5J1i",
        "colab_type": "code",
        "outputId": "b1747ed9-a51b-4dac-cfbf-3f61f50d1710",
        "colab": {
          "base_uri": "https://localhost:8080/",
          "height": 34
        }
      },
      "source": [
        "SIR_data_train.size"
      ],
      "execution_count": 0,
      "outputs": [
        {
          "output_type": "execute_result",
          "data": {
            "text/plain": [
              "40"
            ]
          },
          "metadata": {
            "tags": []
          },
          "execution_count": 151
        }
      ]
    },
    {
      "cell_type": "code",
      "metadata": {
        "id": "WHBnXCdK5OUe",
        "colab_type": "code",
        "outputId": "0664e65c-44a9-4c03-f948-9eba5f371795",
        "colab": {
          "base_uri": "https://localhost:8080/",
          "height": 34
        }
      },
      "source": [
        "SIR_data_test.size"
      ],
      "execution_count": 0,
      "outputs": [
        {
          "output_type": "execute_result",
          "data": {
            "text/plain": [
              "20"
            ]
          },
          "metadata": {
            "tags": []
          },
          "execution_count": 152
        }
      ]
    },
    {
      "cell_type": "code",
      "metadata": {
        "id": "S7ldoZMf5V5R",
        "colab_type": "code",
        "outputId": "5e183afd-be3f-4d73-fcce-09e1b8ef0500",
        "colab": {
          "base_uri": "https://localhost:8080/",
          "height": 275
        }
      },
      "source": [
        "SIR_data_model = ARIMA(SIR_data_train, order=(2,1,2))\n",
        "SIR_data_model_fit = SIR_data_model.fit()"
      ],
      "execution_count": 0,
      "outputs": [
        {
          "output_type": "stream",
          "text": [
            "/usr/local/lib/python3.6/dist-packages/statsmodels/tsa/base/tsa_model.py:165: ValueWarning: No frequency information was provided, so inferred frequency D will be used.\n",
            "  % freq, ValueWarning)\n",
            "/usr/local/lib/python3.6/dist-packages/statsmodels/tsa/base/tsa_model.py:165: ValueWarning: No frequency information was provided, so inferred frequency D will be used.\n",
            "  % freq, ValueWarning)\n",
            "/usr/local/lib/python3.6/dist-packages/statsmodels/tsa/tsatools.py:668: RuntimeWarning: overflow encountered in exp\n",
            "  newparams = ((1-np.exp(-params))/(1+np.exp(-params))).copy()\n",
            "/usr/local/lib/python3.6/dist-packages/statsmodels/tsa/tsatools.py:668: RuntimeWarning: invalid value encountered in true_divide\n",
            "  newparams = ((1-np.exp(-params))/(1+np.exp(-params))).copy()\n",
            "/usr/local/lib/python3.6/dist-packages/statsmodels/tsa/tsatools.py:669: RuntimeWarning: overflow encountered in exp\n",
            "  tmp = ((1-np.exp(-params))/(1+np.exp(-params))).copy()\n",
            "/usr/local/lib/python3.6/dist-packages/statsmodels/tsa/tsatools.py:669: RuntimeWarning: invalid value encountered in true_divide\n",
            "  tmp = ((1-np.exp(-params))/(1+np.exp(-params))).copy()\n",
            "/usr/local/lib/python3.6/dist-packages/statsmodels/base/model.py:492: HessianInversionWarning: Inverting hessian failed, no bse or cov_params available\n",
            "  'available', HessianInversionWarning)\n"
          ],
          "name": "stderr"
        }
      ]
    },
    {
      "cell_type": "code",
      "metadata": {
        "id": "0C053YNU5a29",
        "colab_type": "code",
        "outputId": "fd628a5b-ad2b-4338-c6fa-7e72dc6ac1b7",
        "colab": {
          "base_uri": "https://localhost:8080/",
          "height": 34
        }
      },
      "source": [
        "SIR_data_model_fit.aic"
      ],
      "execution_count": 0,
      "outputs": [
        {
          "output_type": "execute_result",
          "data": {
            "text/plain": [
              "636.6922735485527"
            ]
          },
          "metadata": {
            "tags": []
          },
          "execution_count": 154
        }
      ]
    },
    {
      "cell_type": "code",
      "metadata": {
        "id": "sGSXugZa5fSm",
        "colab_type": "code",
        "outputId": "2263b02a-53fd-416e-c329-d42503c36a7e",
        "colab": {
          "base_uri": "https://localhost:8080/",
          "height": 102
        }
      },
      "source": [
        "SIR_data_forecast = SIR_data_model_fit.forecast(steps = 20)[0]\n",
        "SIR_data_forecast"
      ],
      "execution_count": 0,
      "outputs": [
        {
          "output_type": "execute_result",
          "data": {
            "text/plain": [
              "array([ 89225.21129156,  90880.75426221,  92770.08114116,  94855.1023643 ,\n",
              "        97097.01951698,  99457.87226588, 101901.79110909, 104395.95997872,\n",
              "       106911.30270967, 109422.91515288, 111910.27035389, 114357.22789107,\n",
              "       116751.88037316, 119086.27046345, 121356.01087647, 123559.83783571,\n",
              "       125699.12573607, 127777.38745743, 129799.78114093, 131772.64045873])"
            ]
          },
          "metadata": {
            "tags": []
          },
          "execution_count": 155
        }
      ]
    },
    {
      "cell_type": "code",
      "metadata": {
        "id": "T3QwkVvB5i6c",
        "colab_type": "code",
        "outputId": "f9f88ee8-ce2a-46ba-8d89-7b004d38239c",
        "colab": {
          "base_uri": "https://localhost:8080/",
          "height": 700
        }
      },
      "source": [
        "SIR_data_test"
      ],
      "execution_count": 0,
      "outputs": [
        {
          "output_type": "execute_result",
          "data": {
            "text/html": [
              "<div>\n",
              "<style scoped>\n",
              "    .dataframe tbody tr th:only-of-type {\n",
              "        vertical-align: middle;\n",
              "    }\n",
              "\n",
              "    .dataframe tbody tr th {\n",
              "        vertical-align: top;\n",
              "    }\n",
              "\n",
              "    .dataframe thead th {\n",
              "        text-align: right;\n",
              "    }\n",
              "</style>\n",
              "<table border=\"1\" class=\"dataframe\">\n",
              "  <thead>\n",
              "    <tr style=\"text-align: right;\">\n",
              "      <th></th>\n",
              "      <th>Cases</th>\n",
              "    </tr>\n",
              "    <tr>\n",
              "      <th>Date</th>\n",
              "      <th></th>\n",
              "    </tr>\n",
              "  </thead>\n",
              "  <tbody>\n",
              "    <tr>\n",
              "      <th>2020-04-11</th>\n",
              "      <td>88865</td>\n",
              "    </tr>\n",
              "    <tr>\n",
              "      <th>2020-04-12</th>\n",
              "      <td>89860</td>\n",
              "    </tr>\n",
              "    <tr>\n",
              "      <th>2020-04-13</th>\n",
              "      <td>90825</td>\n",
              "    </tr>\n",
              "    <tr>\n",
              "      <th>2020-04-14</th>\n",
              "      <td>91761</td>\n",
              "    </tr>\n",
              "    <tr>\n",
              "      <th>2020-04-15</th>\n",
              "      <td>92669</td>\n",
              "    </tr>\n",
              "    <tr>\n",
              "      <th>2020-04-16</th>\n",
              "      <td>93550</td>\n",
              "    </tr>\n",
              "    <tr>\n",
              "      <th>2020-04-17</th>\n",
              "      <td>94405</td>\n",
              "    </tr>\n",
              "    <tr>\n",
              "      <th>2020-04-18</th>\n",
              "      <td>95234</td>\n",
              "    </tr>\n",
              "    <tr>\n",
              "      <th>2020-04-19</th>\n",
              "      <td>96038</td>\n",
              "    </tr>\n",
              "    <tr>\n",
              "      <th>2020-04-20</th>\n",
              "      <td>96818</td>\n",
              "    </tr>\n",
              "    <tr>\n",
              "      <th>2020-04-21</th>\n",
              "      <td>97575</td>\n",
              "    </tr>\n",
              "    <tr>\n",
              "      <th>2020-04-22</th>\n",
              "      <td>98309</td>\n",
              "    </tr>\n",
              "    <tr>\n",
              "      <th>2020-04-23</th>\n",
              "      <td>99021</td>\n",
              "    </tr>\n",
              "    <tr>\n",
              "      <th>2020-04-24</th>\n",
              "      <td>99712</td>\n",
              "    </tr>\n",
              "    <tr>\n",
              "      <th>2020-04-25</th>\n",
              "      <td>100382</td>\n",
              "    </tr>\n",
              "    <tr>\n",
              "      <th>2020-04-26</th>\n",
              "      <td>101032</td>\n",
              "    </tr>\n",
              "    <tr>\n",
              "      <th>2020-04-27</th>\n",
              "      <td>101662</td>\n",
              "    </tr>\n",
              "    <tr>\n",
              "      <th>2020-04-28</th>\n",
              "      <td>102274</td>\n",
              "    </tr>\n",
              "    <tr>\n",
              "      <th>2020-04-29</th>\n",
              "      <td>102867</td>\n",
              "    </tr>\n",
              "    <tr>\n",
              "      <th>2020-04-30</th>\n",
              "      <td>103443</td>\n",
              "    </tr>\n",
              "  </tbody>\n",
              "</table>\n",
              "</div>"
            ],
            "text/plain": [
              "             Cases\n",
              "Date              \n",
              "2020-04-11   88865\n",
              "2020-04-12   89860\n",
              "2020-04-13   90825\n",
              "2020-04-14   91761\n",
              "2020-04-15   92669\n",
              "2020-04-16   93550\n",
              "2020-04-17   94405\n",
              "2020-04-18   95234\n",
              "2020-04-19   96038\n",
              "2020-04-20   96818\n",
              "2020-04-21   97575\n",
              "2020-04-22   98309\n",
              "2020-04-23   99021\n",
              "2020-04-24   99712\n",
              "2020-04-25  100382\n",
              "2020-04-26  101032\n",
              "2020-04-27  101662\n",
              "2020-04-28  102274\n",
              "2020-04-29  102867\n",
              "2020-04-30  103443"
            ]
          },
          "metadata": {
            "tags": []
          },
          "execution_count": 156
        }
      ]
    },
    {
      "cell_type": "code",
      "metadata": {
        "id": "CfoC8tJY5ns9",
        "colab_type": "code",
        "outputId": "485c15af-ecfc-48b3-ea31-bf9967261f32",
        "colab": {
          "base_uri": "https://localhost:8080/",
          "height": 51
        }
      },
      "source": [
        "def rms(SIR_data_test, SIR_data_forecast):\n",
        "  rms = sqrt(mean_squared_error(SIR_data_test, SIR_data_forecast))\n",
        "  return rms\n",
        "print(\"RMSE for fitting and prediction of SIR derived data\")\n",
        "print(rms(np.log(SIR_data_test), np.log(SIR_data_forecast)))"
      ],
      "execution_count": 0,
      "outputs": [
        {
          "output_type": "stream",
          "text": [
            "RMSE for fitting and prediction of SIR derived data\n",
            "0.14705460566192932\n"
          ],
          "name": "stdout"
        }
      ]
    },
    {
      "cell_type": "code",
      "metadata": {
        "id": "sbMw6sPA5rws",
        "colab_type": "code",
        "outputId": "427a42e9-919c-42b5-b993-fc22883817ae",
        "colab": {
          "base_uri": "https://localhost:8080/",
          "height": 583
        }
      },
      "source": [
        "SIR_data_model_fit.plot_predict(1,60)"
      ],
      "execution_count": 0,
      "outputs": [
        {
          "output_type": "execute_result",
          "data": {
            "image/png": "[encoded data removed]",
            "text/plain": [
              "<Figure size 432x288 with 1 Axes>"
            ]
          },
          "metadata": {
            "tags": []
          },
          "execution_count": 158
        },
        {
          "output_type": "display_data",
          "data": {
            "image/png": "[encoded data removed]",
            "text/plain": [
              "<Figure size 432x288 with 1 Axes>"
            ]
          },
          "metadata": {
            "tags": [],
            "needs_background": "light"
          }
        }
      ]
    },
    {
      "cell_type": "markdown",
      "metadata": {
        "id": "cY4Ele8n5wbj",
        "colab_type": "text"
      },
      "source": [
        "ABM dataset"
      ]
    },
    {
      "cell_type": "code",
      "metadata": {
        "id": "-mp4nmiL5zA7",
        "colab_type": "code",
        "outputId": "e3920026-8c47-4d17-b6c0-2eee0aa8d93b",
        "colab": {
          "base_uri": "https://localhost:8080/",
          "height": 297
        }
      },
      "source": [
        "type(ABM_data)\n",
        "\n",
        "series_value = ABM_data.values\n",
        "type(series_value)\n",
        "\n",
        "ABM_data.describe()"
      ],
      "execution_count": 0,
      "outputs": [
        {
          "output_type": "execute_result",
          "data": {
            "text/html": [
              "<div>\n",
              "<style scoped>\n",
              "    .dataframe tbody tr th:only-of-type {\n",
              "        vertical-align: middle;\n",
              "    }\n",
              "\n",
              "    .dataframe tbody tr th {\n",
              "        vertical-align: top;\n",
              "    }\n",
              "\n",
              "    .dataframe thead th {\n",
              "        text-align: right;\n",
              "    }\n",
              "</style>\n",
              "<table border=\"1\" class=\"dataframe\">\n",
              "  <thead>\n",
              "    <tr style=\"text-align: right;\">\n",
              "      <th></th>\n",
              "      <th>Cases</th>\n",
              "    </tr>\n",
              "  </thead>\n",
              "  <tbody>\n",
              "    <tr>\n",
              "      <th>count</th>\n",
              "      <td>6.000000e+01</td>\n",
              "    </tr>\n",
              "    <tr>\n",
              "      <th>mean</th>\n",
              "      <td>2.470548e+07</td>\n",
              "    </tr>\n",
              "    <tr>\n",
              "      <th>std</th>\n",
              "      <td>1.748596e+07</td>\n",
              "    </tr>\n",
              "    <tr>\n",
              "      <th>min</th>\n",
              "      <td>2.455598e+06</td>\n",
              "    </tr>\n",
              "    <tr>\n",
              "      <th>25%</th>\n",
              "      <td>6.957530e+06</td>\n",
              "    </tr>\n",
              "    <tr>\n",
              "      <th>50%</th>\n",
              "      <td>2.097490e+07</td>\n",
              "    </tr>\n",
              "    <tr>\n",
              "      <th>75%</th>\n",
              "      <td>4.106307e+07</td>\n",
              "    </tr>\n",
              "    <tr>\n",
              "      <th>max</th>\n",
              "      <td>5.255663e+07</td>\n",
              "    </tr>\n",
              "  </tbody>\n",
              "</table>\n",
              "</div>"
            ],
            "text/plain": [
              "              Cases\n",
              "count  6.000000e+01\n",
              "mean   2.470548e+07\n",
              "std    1.748596e+07\n",
              "min    2.455598e+06\n",
              "25%    6.957530e+06\n",
              "50%    2.097490e+07\n",
              "75%    4.106307e+07\n",
              "max    5.255663e+07"
            ]
          },
          "metadata": {
            "tags": []
          },
          "execution_count": 159
        }
      ]
    },
    {
      "cell_type": "code",
      "metadata": {
        "id": "80ZfY7KJ6DZ0",
        "colab_type": "code",
        "outputId": "64c01af1-ef1f-421f-d9b6-8b9728e4a0a2",
        "colab": {
          "base_uri": "https://localhost:8080/",
          "height": 342
        }
      },
      "source": [
        "ABM_data.plot()"
      ],
      "execution_count": 0,
      "outputs": [
        {
          "output_type": "execute_result",
          "data": {
            "text/plain": [
              "<matplotlib.axes._subplots.AxesSubplot at 0x7f028154fb38>"
            ]
          },
          "metadata": {
            "tags": []
          },
          "execution_count": 160
        },
        {
          "output_type": "display_data",
          "data": {
            "image/png": "[encoded data removed]",
            "text/plain": [
              "<Figure size 432x288 with 1 Axes>"
            ]
          },
          "metadata": {
            "tags": [],
            "needs_background": "light"
          }
        }
      ]
    },
    {
      "cell_type": "code",
      "metadata": {
        "id": "lnxWuFSu6HZt",
        "colab_type": "code",
        "outputId": "1b7c9026-b330-47d8-ac51-d5db91a6d405",
        "colab": {
          "base_uri": "https://localhost:8080/",
          "height": 650
        }
      },
      "source": [
        "ABM_data_mean = ABM_data.rolling(window = 9).mean()\n",
        "ABM_data.plot()\n",
        "ABM_data_mean.plot()"
      ],
      "execution_count": 0,
      "outputs": [
        {
          "output_type": "execute_result",
          "data": {
            "text/plain": [
              "<matplotlib.axes._subplots.AxesSubplot at 0x7f02816db828>"
            ]
          },
          "metadata": {
            "tags": []
          },
          "execution_count": 161
        },
        {
          "output_type": "display_data",
          "data": {
            "image/png": "[encoded data removed]",
            "text/plain": [
              "<Figure size 432x288 with 1 Axes>"
            ]
          },
          "metadata": {
            "tags": [],
            "needs_background": "light"
          }
        },
        {
          "output_type": "display_data",
          "data": {
            "image/png": "[encoded data removed]",
            "text/plain": [
              "<Figure size 432x288 with 1 Axes>"
            ]
          },
          "metadata": {
            "tags": [],
            "needs_background": "light"
          }
        }
      ]
    },
    {
      "cell_type": "code",
      "metadata": {
        "id": "a_80FY6n6LgQ",
        "colab_type": "code",
        "outputId": "4b7c0cd6-e0de-477d-f04a-4cd7f38f979d",
        "colab": {
          "base_uri": "https://localhost:8080/",
          "height": 545
        }
      },
      "source": [
        "plot_acf(ABM_data)"
      ],
      "execution_count": 0,
      "outputs": [
        {
          "output_type": "execute_result",
          "data": {
            "image/png": "[encoded data removed]",
            "text/plain": [
              "<Figure size 432x288 with 1 Axes>"
            ]
          },
          "metadata": {
            "tags": []
          },
          "execution_count": 162
        },
        {
          "output_type": "display_data",
          "data": {
            "image/png": "[encoded data removed]",
            "text/plain": [
              "<Figure size 432x288 with 1 Axes>"
            ]
          },
          "metadata": {
            "tags": [],
            "needs_background": "light"
          }
        }
      ]
    },
    {
      "cell_type": "code",
      "metadata": {
        "id": "HyKys8mm6QVg",
        "colab_type": "code",
        "outputId": "c236ecb7-d998-4e18-865f-8f1b1fa54995",
        "colab": {
          "base_uri": "https://localhost:8080/",
          "height": 545
        }
      },
      "source": [
        "plot_pacf(ABM_data)"
      ],
      "execution_count": 0,
      "outputs": [
        {
          "output_type": "execute_result",
          "data": {
            "image/png": "[encoded data removed]",
            "text/plain": [
              "<Figure size 432x288 with 1 Axes>"
            ]
          },
          "metadata": {
            "tags": []
          },
          "execution_count": 163
        },
        {
          "output_type": "display_data",
          "data": {
            "image/png": "[encoded data removed]",
            "text/plain": [
              "<Figure size 432x288 with 1 Axes>"
            ]
          },
          "metadata": {
            "tags": [],
            "needs_background": "light"
          }
        }
      ]
    },
    {
      "cell_type": "code",
      "metadata": {
        "id": "Sb2Oo5nj6Un-",
        "colab_type": "code",
        "outputId": "a87ae9da-c861-4da0-aee9-77acb1a42c8a",
        "colab": {
          "base_uri": "https://localhost:8080/",
          "height": 34
        }
      },
      "source": [
        "ABM_data.size"
      ],
      "execution_count": 0,
      "outputs": [
        {
          "output_type": "execute_result",
          "data": {
            "text/plain": [
              "60"
            ]
          },
          "metadata": {
            "tags": []
          },
          "execution_count": 164
        }
      ]
    },
    {
      "cell_type": "code",
      "metadata": {
        "id": "5b8uV0pG6Ybe",
        "colab_type": "code",
        "colab": {}
      },
      "source": [
        "ABM_data_train = ABM_data[0:40]\n",
        "ABM_data_test = ABM_data[40:60]"
      ],
      "execution_count": 0,
      "outputs": []
    },
    {
      "cell_type": "code",
      "metadata": {
        "id": "xOUdKKP96cPC",
        "colab_type": "code",
        "outputId": "7f0779e0-2c7b-4826-d2f9-8e64bb0fa5ac",
        "colab": {
          "base_uri": "https://localhost:8080/",
          "height": 34
        }
      },
      "source": [
        "ABM_data_train.size"
      ],
      "execution_count": 0,
      "outputs": [
        {
          "output_type": "execute_result",
          "data": {
            "text/plain": [
              "40"
            ]
          },
          "metadata": {
            "tags": []
          },
          "execution_count": 166
        }
      ]
    },
    {
      "cell_type": "code",
      "metadata": {
        "id": "59rngoSh6hnD",
        "colab_type": "code",
        "outputId": "be474e55-4d78-4559-c82f-a2f1b96f5d14",
        "colab": {
          "base_uri": "https://localhost:8080/",
          "height": 34
        }
      },
      "source": [
        "ABM_data_test.size"
      ],
      "execution_count": 0,
      "outputs": [
        {
          "output_type": "execute_result",
          "data": {
            "text/plain": [
              "20"
            ]
          },
          "metadata": {
            "tags": []
          },
          "execution_count": 167
        }
      ]
    },
    {
      "cell_type": "code",
      "metadata": {
        "id": "9YHj_KUU6lSr",
        "colab_type": "code",
        "outputId": "575438bc-fb7f-4301-c529-e620b95b76a5",
        "colab": {
          "base_uri": "https://localhost:8080/",
          "height": 122
        }
      },
      "source": [
        "ABM_data_model = ARIMA(ABM_data_train, order=(2,1,3))\n",
        "ABM_data_model_fit = ABM_data_model.fit()\n",
        "ABM_data_model_fit.aic"
      ],
      "execution_count": 0,
      "outputs": [
        {
          "output_type": "stream",
          "text": [
            "/usr/local/lib/python3.6/dist-packages/statsmodels/tsa/base/tsa_model.py:165: ValueWarning: No frequency information was provided, so inferred frequency D will be used.\n",
            "  % freq, ValueWarning)\n",
            "/usr/local/lib/python3.6/dist-packages/statsmodels/tsa/base/tsa_model.py:165: ValueWarning: No frequency information was provided, so inferred frequency D will be used.\n",
            "  % freq, ValueWarning)\n"
          ],
          "name": "stderr"
        },
        {
          "output_type": "execute_result",
          "data": {
            "text/plain": [
              "1135.2076267739876"
            ]
          },
          "metadata": {
            "tags": []
          },
          "execution_count": 168
        }
      ]
    },
    {
      "cell_type": "code",
      "metadata": {
        "id": "oGS5KuUo6qNj",
        "colab_type": "code",
        "outputId": "49d264f0-0c5e-43e9-aed6-e4facc459cb9",
        "colab": {
          "base_uri": "https://localhost:8080/",
          "height": 136
        }
      },
      "source": [
        "ABM_data_forecast = ABM_data_model_fit.forecast(steps = 20)[0]\n",
        "ABM_data_forecast"
      ],
      "execution_count": 0,
      "outputs": [
        {
          "output_type": "execute_result",
          "data": {
            "text/plain": [
              "array([37104610.45135316, 38191619.82880753, 38747841.58607563,\n",
              "       39172444.00794392, 39832250.08181122, 40790721.99131725,\n",
              "       41860636.81790528, 42831751.00778973, 43640028.17636962,\n",
              "       44367951.53447101, 45132160.60443518, 45982416.14521031,\n",
              "       46885730.92225643, 47779382.04112332, 48629043.66941016,\n",
              "       49445664.59338624, 50261917.91521375, 51099834.3636168 ,\n",
              "       51957434.5059684 , 52818277.75202215])"
            ]
          },
          "metadata": {
            "tags": []
          },
          "execution_count": 169
        }
      ]
    },
    {
      "cell_type": "code",
      "metadata": {
        "id": "FZSmmogY6vTX",
        "colab_type": "code",
        "outputId": "71c8dfca-5fae-4079-d0bd-2621e168e57e",
        "colab": {
          "base_uri": "https://localhost:8080/",
          "height": 700
        }
      },
      "source": [
        "ABM_data_test"
      ],
      "execution_count": 0,
      "outputs": [
        {
          "output_type": "execute_result",
          "data": {
            "text/html": [
              "<div>\n",
              "<style scoped>\n",
              "    .dataframe tbody tr th:only-of-type {\n",
              "        vertical-align: middle;\n",
              "    }\n",
              "\n",
              "    .dataframe tbody tr th {\n",
              "        vertical-align: top;\n",
              "    }\n",
              "\n",
              "    .dataframe thead th {\n",
              "        text-align: right;\n",
              "    }\n",
              "</style>\n",
              "<table border=\"1\" class=\"dataframe\">\n",
              "  <thead>\n",
              "    <tr style=\"text-align: right;\">\n",
              "      <th></th>\n",
              "      <th>Cases</th>\n",
              "    </tr>\n",
              "    <tr>\n",
              "      <th>Date</th>\n",
              "      <th></th>\n",
              "    </tr>\n",
              "  </thead>\n",
              "  <tbody>\n",
              "    <tr>\n",
              "      <th>2020-04-11</th>\n",
              "      <td>37243246</td>\n",
              "    </tr>\n",
              "    <tr>\n",
              "      <th>2020-04-12</th>\n",
              "      <td>39221367</td>\n",
              "    </tr>\n",
              "    <tr>\n",
              "      <th>2020-04-13</th>\n",
              "      <td>39494212</td>\n",
              "    </tr>\n",
              "    <tr>\n",
              "      <th>2020-04-14</th>\n",
              "      <td>39971689</td>\n",
              "    </tr>\n",
              "    <tr>\n",
              "      <th>2020-04-15</th>\n",
              "      <td>40790222</td>\n",
              "    </tr>\n",
              "    <tr>\n",
              "      <th>2020-04-16</th>\n",
              "      <td>41881599</td>\n",
              "    </tr>\n",
              "    <tr>\n",
              "      <th>2020-04-17</th>\n",
              "      <td>43177610</td>\n",
              "    </tr>\n",
              "    <tr>\n",
              "      <th>2020-04-18</th>\n",
              "      <td>44746464</td>\n",
              "    </tr>\n",
              "    <tr>\n",
              "      <th>2020-04-19</th>\n",
              "      <td>45837842</td>\n",
              "    </tr>\n",
              "    <tr>\n",
              "      <th>2020-04-20</th>\n",
              "      <td>46042475</td>\n",
              "    </tr>\n",
              "    <tr>\n",
              "      <th>2020-04-21</th>\n",
              "      <td>46247108</td>\n",
              "    </tr>\n",
              "    <tr>\n",
              "      <th>2020-04-22</th>\n",
              "      <td>47202063</td>\n",
              "    </tr>\n",
              "    <tr>\n",
              "      <th>2020-04-23</th>\n",
              "      <td>48395757</td>\n",
              "    </tr>\n",
              "    <tr>\n",
              "      <th>2020-04-24</th>\n",
              "      <td>49521240</td>\n",
              "    </tr>\n",
              "    <tr>\n",
              "      <th>2020-04-25</th>\n",
              "      <td>50442089</td>\n",
              "    </tr>\n",
              "    <tr>\n",
              "      <th>2020-04-26</th>\n",
              "      <td>51328833</td>\n",
              "    </tr>\n",
              "    <tr>\n",
              "      <th>2020-04-27</th>\n",
              "      <td>51465255</td>\n",
              "    </tr>\n",
              "    <tr>\n",
              "      <th>2020-04-28</th>\n",
              "      <td>51669889</td>\n",
              "    </tr>\n",
              "    <tr>\n",
              "      <th>2020-04-29</th>\n",
              "      <td>52249683</td>\n",
              "    </tr>\n",
              "    <tr>\n",
              "      <th>2020-04-30</th>\n",
              "      <td>52556633</td>\n",
              "    </tr>\n",
              "  </tbody>\n",
              "</table>\n",
              "</div>"
            ],
            "text/plain": [
              "               Cases\n",
              "Date                \n",
              "2020-04-11  37243246\n",
              "2020-04-12  39221367\n",
              "2020-04-13  39494212\n",
              "2020-04-14  39971689\n",
              "2020-04-15  40790222\n",
              "2020-04-16  41881599\n",
              "2020-04-17  43177610\n",
              "2020-04-18  44746464\n",
              "2020-04-19  45837842\n",
              "2020-04-20  46042475\n",
              "2020-04-21  46247108\n",
              "2020-04-22  47202063\n",
              "2020-04-23  48395757\n",
              "2020-04-24  49521240\n",
              "2020-04-25  50442089\n",
              "2020-04-26  51328833\n",
              "2020-04-27  51465255\n",
              "2020-04-28  51669889\n",
              "2020-04-29  52249683\n",
              "2020-04-30  52556633"
            ]
          },
          "metadata": {
            "tags": []
          },
          "execution_count": 170
        }
      ]
    },
    {
      "cell_type": "code",
      "metadata": {
        "id": "BN3ZVsrC61CO",
        "colab_type": "code",
        "outputId": "b9b0f933-9080-49c9-9410-2c15d595584b",
        "colab": {
          "base_uri": "https://localhost:8080/",
          "height": 51
        }
      },
      "source": [
        "def rms(ABM_data_test, ABM_data_forecast):\n",
        "  rms = sqrt(mean_squared_error(ABM_data_test, ABM_data_forecast))\n",
        "  return rms\n",
        "print(\"RMSE for fitting and prediction of ABM derived data\")\n",
        "print(rms(np.log(ABM_data_test), np.log(ABM_data_forecast)))"
      ],
      "execution_count": 0,
      "outputs": [
        {
          "output_type": "stream",
          "text": [
            "RMSE for fitting and prediction of ABM derived data\n",
            "0.02868600995352859\n"
          ],
          "name": "stdout"
        }
      ]
    },
    {
      "cell_type": "code",
      "metadata": {
        "id": "ylRijsfh65hi",
        "colab_type": "code",
        "outputId": "26285c41-9cef-4686-980e-de1f373da922",
        "colab": {
          "base_uri": "https://localhost:8080/",
          "height": 605
        }
      },
      "source": [
        "ABM_data_model_fit.plot_predict(1,60)"
      ],
      "execution_count": 0,
      "outputs": [
        {
          "output_type": "execute_result",
          "data": {
            "image/png": "[encoded data removed]",
            "text/plain": [
              "<Figure size 432x288 with 1 Axes>"
            ]
          },
          "metadata": {
            "tags": []
          },
          "execution_count": 172
        },
        {
          "output_type": "display_data",
          "data": {
            "image/png": "[encoded data removed]",
            "text/plain": [
              "<Figure size 432x288 with 1 Axes>"
            ]
          },
          "metadata": {
            "tags": [],
            "needs_background": "light"
          }
        }
      ]
    },
    {
      "cell_type": "markdown",
      "metadata": {
        "id": "RuWzV8Rdl4tT",
        "colab_type": "text"
      },
      "source": [
        "# PROPHET\n"
      ]
    },
    {
      "cell_type": "code",
      "metadata": {
        "id": "xAZRkfh5lvz_",
        "colab_type": "code",
        "colab": {}
      },
      "source": [
        "\n",
        "def SIR_Data():return '/content/SIR_Data(6).csv'\n",
        "def ABM_Data(): return '/content/cases_abm.csv'\n",
        "def Real_Data(): return '/content/cases_rki.csv'\n",
        "\n",
        "datasets = [Real_Data, SIR_Data, ABM_Data]\n",
        "\n",
        "\n",
        "fig, axs = plt.subplots(1,3, figsize=(30, 10), facecolor='w', edgecolor='k')\n",
        "fig.subplots_adjust(hspace = .5, wspace=.001)\n",
        "axs = axs.ravel()\n",
        "\n",
        "for i, datas in enumerate(datasets):\n",
        "  data = pd.read_csv(datas(), index_col='Date',parse_dates=True)\n",
        "  axs[i].plot(data.Cases)\n",
        "  name = datas.__name__.replace('_', ' ')\n",
        "  axs[i].set_title(f'# of Infected Cases for {name}')\n",
        "  axs[i].set_ylabel('Cases')\n",
        "  axs[i].set_xlabel('Days')\n",
        "\n",
        "plt.tight_layout()\n",
        "plt.show()\n",
        "fig, axs = plt.subplots(3,2, figsize=(30, 15), facecolor='w', edgecolor='k')\n",
        "fig.subplots_adjust(hspace = .5, wspace=.001)\n",
        "axs = axs.ravel()\n",
        "metrics = {\"Data\":[], \"R2\":[], \"MSE\":[], \"RMSE\":[]}\n",
        "caps = [20,40,80]\n",
        "\n",
        "for idx, data_path,cap in zip(range(0,2*len(datasets),2), datasets, caps):\n",
        "  data = pd.read_csv(data_path(), index_col='Date',parse_dates=True)\n",
        "  \n",
        "  data['Cases'] = np.log(data['Cases'])\n",
        "  name = data_path.__name__.replace('_', ' ')\n",
        "  metrics['Data'].append(name)\n",
        "  train = data[0:50]\n",
        "  df_train = data[0:50].reset_index()\n",
        "  df_train['cap'] = cap\n",
        "  df_test = data[50:]\n",
        "  df_train.rename(columns={\"Date\": \"ds\", \"Cases\": \"y\", 'Cases_per_Day':'Cases_per_Day'}, inplace = True)\n",
        "  # take 50 days -> predict 10  \n",
        "  m = Prophet( growth ='logistic', daily_seasonality=True, yearly_seasonality=False, weekly_seasonality=False, changepoint_range=0.98).fit(df_train)\n",
        "  future = m.make_future_dataframe(periods=10)\n",
        "  future['cap'] = cap\n",
        "  forecast = m.predict(future)\n",
        "  \n",
        "\n",
        "  forecast.set_index('ds', inplace=True)\n",
        "\n",
        "  \n",
        "\n",
        "  viz_df = train.join(forecast[['yhat', 'yhat_lower','yhat_upper']], how = 'outer')\n",
        "  train.index = pd.to_datetime(train.index)\n",
        "  connect_date = train.index[-2]\n",
        "\n",
        "  mask = (forecast.index > connect_date)\n",
        "  predict_df = forecast.loc[mask]\n",
        "  viz_df = train.join(predict_df[['yhat', 'yhat_lower','yhat_upper']], how = 'outer')\n",
        "  \n",
        "  axs[idx].plot(viz_df.Cases, label=\"Confirmed Cases\")\n",
        "  axs[idx].plot(viz_df.yhat, color='black', linestyle=':', label=\"Predicted Cases\")\n",
        "  axs[idx].fill_between(viz_df.index, (viz_df['yhat_upper']), (viz_df['yhat_lower']), alpha=0.5, color='darkgray')\n",
        "  axs[idx].set_title(f'Prophet Prediction for {name}')\n",
        "  # axs[idx].plot(data.Cases)\n",
        "  # axs[idx].plot(forecast.yhat)\n",
        "  axs[idx].set_ylabel('Cases')\n",
        "  axs[idx].set_xlabel('Date')\n",
        "\n",
        "\n",
        "\n",
        "\n",
        "  compare_df = df_test.join(forecast[['yhat']], how = 'outer').dropna()\n",
        "  \n",
        "  axs[idx+1].plot(compare_df['Cases'], c='r', label ='Confirmed Cases')\n",
        "  axs[idx+1].plot(compare_df['yhat'], c='k', label ='Predicted Cases')\n",
        "  axs[idx+1].set_title(f'Predicted vs Confirmed for {name}')\n",
        ")\n",
        "\n",
        "  print(mean_squared_error(compare_df.Cases, compare_df.yhat))\n",
        "  metrics['R2'].append(r2_score(compare_df.Cases, compare_df.yhat))\n",
        "  metrics['MSE'].append(mean_squared_error(compare_df.Cases, compare_df.yhat))\n",
        "  metrics['RMSE'].append(mean_squared_error(compare_df.Cases, compare_df.yhat,squared=False))\n",
        "\n",
        "\n",
        "plt.tight_layout()\n",
        "plt.legend()\n",
        "plt.show()\n",
        "\n",
        "print(metrics)"
      ],
      "execution_count": 0,
      "outputs": []
    },
    {
      "cell_type": "markdown",
      "metadata": {
        "id": "MXNlPI0wwuKA",
        "colab_type": "text"
      },
      "source": [
        "# LSTM"
      ]
    },
    {
      "cell_type": "code",
      "metadata": {
        "id": "tQAAkR9RwIUQ",
        "colab_type": "code",
        "colab": {}
      },
      "source": [
        "sir_file = \"/content/drive/My Drive/DataScience/Week7/SIR_Data_4.csv\"\n",
        "abm_file = \"/content/drive/My Drive/DataScience/Week7/cases_abm.csv\"\n",
        "rki_file = \"/content/drive/My Drive/DataScience/Week7/cases_rki.csv\"\n",
        "sir_df= pd.read_csv(sir_file, header=0, parse_dates=[0], index_col=0,squeeze=True)\n",
        "sir_df = sir_df['Cases']\n",
        "\n",
        "abm_df = pd.read_csv(abm_file, header=0, parse_dates=[0], index_col=0,squeeze=True)\n",
        "rki_df = pd.read_csv(rki_file, header=0, parse_dates=[0], index_col=0,squeeze=True)\n"
      ],
      "execution_count": 0,
      "outputs": []
    },
    {
      "cell_type": "code",
      "metadata": {
        "id": "MwitjyD3wNSS",
        "colab_type": "code",
        "colab": {}
      },
      "source": [
        "\n",
        "#BASED ON: https://machinelearningmastery.com/time-series-forecasting-long-short-term-memory-network-python/\n",
        "\n",
        "# frame a sequence as a supervised learning problem\n",
        "from pandas import DataFrame\n",
        "from pandas import Series\n",
        "from pandas import concat\n",
        "from pandas import read_csv\n",
        "from pandas import datetime\n",
        "from pandas import concat\n",
        "from sklearn.metrics import mean_squared_error\n",
        "from sklearn.preprocessing import MinMaxScaler\n",
        "from keras.models import Sequential\n",
        "from keras.layers import Dense\n",
        "from keras.layers import LSTM\n",
        "from math import sqrt\n",
        "from matplotlib import pyplot\n",
        "import numpy\n",
        " \n",
        "# frame a sequence as a supervised learning problem\n",
        "def timeseries_to_supervised(data, lag=1):\n",
        "\tdf = DataFrame(data)\n",
        "\tcolumns = [df.shift(i) for i in range(1, lag+1)]\n",
        "\tcolumns.append(df)\n",
        "\tdf = concat(columns, axis=1)\n",
        "\tdf.fillna(0, inplace=True)\n",
        "\treturn df\n",
        " \n",
        "# create a differenced series\n",
        "def difference(dataset, interval=1):\n",
        "\tdiff = list()\n",
        "\tfor i in range(interval, len(dataset)):\n",
        "\t\tvalue = dataset[i] - dataset[i - interval]\n",
        "\t\tdiff.append(value)\n",
        "\treturn Series(diff)\n",
        " \n",
        "# invert differenced value\n",
        "def inverse_difference(history, yhat, interval=1):\n",
        "\treturn yhat + history[-interval]\n",
        " \n",
        "# scale train and test data to [-1, 1]\n",
        "def scale(train, test):\n",
        "\t# fit scaler\n",
        "\tscaler = MinMaxScaler(feature_range=(-1, 1))\n",
        "\tscaler = scaler.fit(train)\n",
        "\t# transform train\n",
        "\ttrain = train.reshape(train.shape[0], train.shape[1])\n",
        "\ttrain_scaled = scaler.transform(train)\n",
        "\t# transform test\n",
        "\ttest = test.reshape(test.shape[0], test.shape[1])\n",
        "\ttest_scaled = scaler.transform(test)\n",
        "\treturn scaler, train_scaled, test_scaled\n",
        " \n",
        "# inverse scaling for a forecasted value\n",
        "def invert_scale(scaler, X, value):\n",
        "\tnew_row = [x for x in X] + [value]\n",
        "\tarray = numpy.array(new_row)\n",
        "\tarray = array.reshape(1, len(array))\n",
        "\tinverted = scaler.inverse_transform(array)\n",
        "\treturn inverted[0, -1]\n",
        " \n",
        "# fit an LSTM network to training data\n",
        "def fit_lstm(train, batch_size, nb_epoch, neurons):\n",
        "\tX, y = train[:, 0:-1], train[:, -1]\n",
        "\tX = X.reshape(X.shape[0], 1, X.shape[1])\n",
        "\tmodel = Sequential()\n",
        "\tmodel.add(LSTM(neurons, batch_input_shape=(batch_size, X.shape[1], X.shape[2]), stateful=True))\n",
        "\tmodel.add(Dense(1))\n",
        "\tmodel.compile(loss='mean_squared_error', optimizer='adam')\n",
        "\tfor i in range(nb_epoch):\n",
        "\t\tmodel.fit(X, y, epochs=1, batch_size=batch_size, verbose=0, shuffle=False)\n",
        "\t\tmodel.reset_states()\n",
        "\treturn model\n",
        " \n",
        "# make a one-step forecast\n",
        "def forecast_lstm(model, batch_size, X):\n",
        "\tX = X.reshape(1, 1, len(X))\n",
        "\tyhat = model.predict(X, batch_size=batch_size)\n",
        "\treturn yhat[0,0]\n",
        " "
      ],
      "execution_count": 0,
      "outputs": []
    },
    {
      "cell_type": "code",
      "metadata": {
        "id": "degLIUqDwUAK",
        "colab_type": "code",
        "colab": {}
      },
      "source": [
        "# transform data to be stationary\n",
        "raw_values = sir_df.values\n",
        "diff_values = difference(raw_values, 1)\n",
        "\n",
        "# transform data to be supervised learning\n",
        "supervised = timeseries_to_supervised(diff_values, 1)\n",
        "supervised_values = supervised.values\n",
        "\n",
        "# split data into train and test-sets\n",
        "train, test = supervised_values[0:-10], supervised_values[-10:]\n",
        "\n",
        "# transform the scale of the data\n",
        "scaler, train_scaled, test_scaled = scale(train, test)\n",
        "\n",
        "# fit the model\n",
        "lstm_model = fit_lstm(train_scaled, 1, 3000, 4)\n",
        "# forecast the entire training dataset to build up state for forecasting\n",
        "train_reshaped = train_scaled[:, 0].reshape(len(train_scaled), 1, 1)\n",
        "lstm_model.predict(train_reshaped, batch_size=1)\n",
        "\n",
        "# walk-forward validation on the test data\n",
        "predictions = list()\n",
        "for i in range(len(test_scaled)):\n",
        "\t# make one-step forecast\n",
        "\tX, y = test_scaled[i, 0:-1], test_scaled[i, -1]\n",
        "\tyhat = forecast_lstm(lstm_model, 1, X)\n",
        "\t# invert scaling\n",
        "\tyhat = invert_scale(scaler, X, yhat)\n",
        "\t# invert differencing\n",
        "\tyhat = inverse_difference(raw_values, yhat, len(test_scaled)+1-i)\n",
        "\t# store forecast\n",
        "\tpredictions.append(yhat)\n",
        "\texpected = raw_values[len(train) + i + 1]\n",
        "\tprint('Days=%d, Predicted=%f, Expected=%f' % (i+1, yhat, expected))\n"
      ],
      "execution_count": 0,
      "outputs": []
    },
    {
      "cell_type": "code",
      "metadata": {
        "id": "Q61Fg8WYwWH8",
        "colab_type": "code",
        "colab": {}
      },
      "source": [
        "# report performance\n",
        "rmse = sqrt(mean_squared_error(raw_values[-10:], predictions))\n",
        "print('Test RMSE: %.3f' % rmse)\n",
        "# line plot of observed vs predicted\n",
        "pyplot.plot(raw_values[-10:])\n",
        "pyplot.plot(predictions)\n",
        "pyplot.show()\n",
        "sir_raw  = raw_values\n",
        "sir_pred = predictions"
      ],
      "execution_count": 0,
      "outputs": []
    },
    {
      "cell_type": "code",
      "metadata": {
        "id": "MyhQIIo3wYuw",
        "colab_type": "code",
        "colab": {}
      },
      "source": [
        "# transform data to be stationary\n",
        "raw_values = abm_df.values\n",
        "diff_values = difference(raw_values, 1)\n",
        "\n",
        "# transform data to be supervised learning\n",
        "supervised = timeseries_to_supervised(diff_values, 1)\n",
        "supervised_values = supervised.values\n",
        "\n",
        "# split data into train and test-sets\n",
        "train, test = supervised_values[0:-10], supervised_values[-10:]\n",
        "\n",
        "# transform the scale of the data\n",
        "scaler, train_scaled, test_scaled = scale(train, test)\n",
        "\n",
        "# fit the model\n",
        "lstm_model = fit_lstm(train_scaled, 1, 3000, 4)\n",
        "# forecast the entire training dataset to build up state for forecasting\n",
        "train_reshaped = train_scaled[:, 0].reshape(len(train_scaled), 1, 1)\n",
        "lstm_model.predict(train_reshaped, batch_size=1)\n",
        "\n",
        "# walk-forward validation on the test data\n",
        "predictions = list()\n",
        "for i in range(len(test_scaled)):\n",
        "\t# make one-step forecast\n",
        "\tX, y = test_scaled[i, 0:-1], test_scaled[i, -1]\n",
        "\tyhat = forecast_lstm(lstm_model, 1, X)\n",
        "\t# invert scaling\n",
        "\tyhat = invert_scale(scaler, X, yhat)\n",
        "\t# invert differencing\n",
        "\tyhat = inverse_difference(raw_values, yhat, len(test_scaled)+1-i)\n",
        "\t# store forecast\n",
        "\tpredictions.append(yhat)\n",
        "\texpected = raw_values[len(train) + i + 1]\n",
        "\tprint('Days=%d, Predicted=%f, Expected=%f' % (i+1, yhat, expected))\n",
        "\n"
      ],
      "execution_count": 0,
      "outputs": []
    },
    {
      "cell_type": "code",
      "metadata": {
        "id": "VxUjLcwhwZyr",
        "colab_type": "code",
        "colab": {}
      },
      "source": [
        "# report performance\n",
        "rmse = sqrt(mean_squared_error(raw_values[-10:], predictions))\n",
        "print('Test RMSE: %.3f' % rmse)\n",
        "# line plot of observed vs predicted\n",
        "pyplot.plot(raw_values[-10:])\n",
        "pyplot.plot(predictions)\n",
        "pyplot.show()\n",
        "abm_raw  = raw_values\n",
        "abm_pred = predictions"
      ],
      "execution_count": 0,
      "outputs": []
    },
    {
      "cell_type": "code",
      "metadata": {
        "id": "fBPwVm5nwbp9",
        "colab_type": "code",
        "colab": {}
      },
      "source": [
        "# transform data to be stationary\n",
        "raw_values = rki_df.values\n",
        "diff_values = difference(raw_values, 1)\n",
        "\n",
        "# transform data to be supervised learning\n",
        "supervised = timeseries_to_supervised(diff_values, 1)\n",
        "supervised_values = supervised.values\n",
        "\n",
        "# split data into train and test-sets\n",
        "train, test = supervised_values[0:-10], supervised_values[-10:]\n",
        "\n",
        "# transform the scale of the data\n",
        "scaler, train_scaled, test_scaled = scale(train, test)\n",
        "\n",
        "# fit the model\n",
        "lstm_model = fit_lstm(train_scaled, 1, 3000, 4)\n",
        "# forecast the entire training dataset to build up state for forecasting\n",
        "train_reshaped = train_scaled[:, 0].reshape(len(train_scaled), 1, 1)\n",
        "lstm_model.predict(train_reshaped, batch_size=1)\n",
        "\n",
        "# walk-forward validation on the test data\n",
        "predictions = list()\n",
        "for i in range(len(test_scaled)):\n",
        "\t# make one-step forecast\n",
        "\tX, y = test_scaled[i, 0:-1], test_scaled[i, -1]\n",
        "\tyhat = forecast_lstm(lstm_model, 1, X)\n",
        "\t# invert scaling\n",
        "\tyhat = invert_scale(scaler, X, yhat)\n",
        "\t# invert differencing\n",
        "\tyhat = inverse_difference(raw_values, yhat, len(test_scaled)+1-i)\n",
        "\t# store forecast\n",
        "\tpredictions.append(yhat)\n",
        "\texpected = raw_values[len(train) + i + 1]\n",
        "\tprint('Days=%d, Predicted=%f, Expected=%f' % (i+1, yhat, expected))"
      ],
      "execution_count": 0,
      "outputs": []
    },
    {
      "cell_type": "code",
      "metadata": {
        "id": "QdEX7yirwdOl",
        "colab_type": "code",
        "colab": {}
      },
      "source": [
        "# report performance\n",
        "rmse = sqrt(mean_squared_error(raw_values[-10:], predictions))\n",
        "print('Test RMSE: %.3f' % rmse)\n",
        "# line plot of observed vs predicted\n",
        "pyplot.plot(raw_values[-10:])\n",
        "pyplot.plot(predictions)\n",
        "pyplot.show()\n",
        "# report performance\n",
        "rmse = sqrt(mean_squared_error(raw_values[-10:], predictions))\n",
        "print('Test RMSE: %.3f' % rmse)\n",
        "# line plot of observed vs predicted\n",
        "pyplot.plot(raw_values[-10:])\n",
        "pyplot.plot(predictions)\n",
        "pyplot.show()"
      ],
      "execution_count": 0,
      "outputs": []
    }
  ]
}